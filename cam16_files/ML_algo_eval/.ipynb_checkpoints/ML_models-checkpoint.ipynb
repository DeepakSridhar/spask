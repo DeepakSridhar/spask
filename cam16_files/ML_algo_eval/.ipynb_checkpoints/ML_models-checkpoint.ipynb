{
 "cells": [
  {
   "cell_type": "code",
   "execution_count": 1,
   "id": "d5cff02f",
   "metadata": {},
   "outputs": [],
   "source": [
    "import pandas as pd\n",
    "import numpy as np\n",
    "\n",
    "import sklearn\n",
    "\n",
    "import os\n",
    "\n",
    "import pickle as pkl\n",
    "\n",
    "import optuna\n",
    "\n",
    "\n",
    "from lightgbm import LGBMClassifier\n",
    "from sklearn.metrics import accuracy_score, confusion_matrix,roc_curve, roc_auc_score, precision_score, recall_score, precision_recall_curve,balanced_accuracy_score,f1_score,classification_report\n",
    "from tqdm import tqdm"
   ]
  },
  {
   "cell_type": "code",
   "execution_count": null,
   "id": "20d46d00",
   "metadata": {},
   "outputs": [],
   "source": []
  },
  {
   "cell_type": "code",
   "execution_count": 2,
   "id": "dc276e4b",
   "metadata": {},
   "outputs": [
    {
     "data": {
      "text/plain": [
       "(2, 2)"
      ]
     },
     "execution_count": 2,
     "metadata": {},
     "output_type": "execute_result"
    }
   ],
   "source": [
    "with open('./data/train_set_.pkl','rb') as f:\n",
    "    train =  pkl.load(f)\n",
    "\n",
    "with open('./data/val_set_.pkl','rb') as f:\n",
    "    val =  pkl.load(f)\n",
    "    \n",
    "# with open('./data/test_set_5_slides_.pkl','rb') as f:\n",
    "#     test =  pkl.load(f)\n",
    "\n",
    "len(train),len(val)#,len(test)"
   ]
  },
  {
   "cell_type": "code",
   "execution_count": 3,
   "id": "ca9a8842",
   "metadata": {},
   "outputs": [
    {
     "data": {
      "text/plain": [
       "(134656, 33722)"
      ]
     },
     "execution_count": 3,
     "metadata": {},
     "output_type": "execute_result"
    }
   ],
   "source": [
    "len(train[0]),len(val[0])#,len(test[0])"
   ]
  },
  {
   "cell_type": "code",
   "execution_count": 4,
   "id": "0d5dd606",
   "metadata": {},
   "outputs": [],
   "source": [
    "train_x,train_y = train\n",
    "val_x,val_y = val\n",
    "# test_x,test_y = test"
   ]
  },
  {
   "cell_type": "code",
   "execution_count": null,
   "id": "ed52c9ed",
   "metadata": {},
   "outputs": [],
   "source": []
  },
  {
   "cell_type": "markdown",
   "id": "e8592daa",
   "metadata": {},
   "source": [
    "# ML models"
   ]
  },
  {
   "cell_type": "code",
   "execution_count": 5,
   "id": "e3759a1f",
   "metadata": {},
   "outputs": [
    {
     "data": {
      "text/plain": [
       "(134656, 33722, 168378, 168378)"
      ]
     },
     "execution_count": 5,
     "metadata": {},
     "output_type": "execute_result"
    }
   ],
   "source": [
    "len(train_x),len(val_x),len(train_x)+len(val_x),len(train_x+val_x)"
   ]
  },
  {
   "cell_type": "code",
   "execution_count": 6,
   "id": "f484c96f",
   "metadata": {},
   "outputs": [
    {
     "data": {
      "text/plain": [
       "0"
      ]
     },
     "execution_count": 6,
     "metadata": {},
     "output_type": "execute_result"
    }
   ],
   "source": [
    "import gc\n",
    "gc.collect()"
   ]
  },
  {
   "cell_type": "code",
   "execution_count": 9,
   "id": "2b1dec3f",
   "metadata": {},
   "outputs": [
    {
     "name": "stderr",
     "output_type": "stream",
     "text": [
      "\u001b[32m[I 2023-03-22 17:37:54,429]\u001b[0m A new study created in memory with name: no-name-3d9583eb-58c3-46ab-9bb7-89729bb6d205\u001b[0m\n",
      "\u001b[32m[I 2023-03-22 17:37:59,715]\u001b[0m Trial 0 finished with value: 0.851985005746516 and parameters: {'n_estimators': 12, 'max_depth': 10, 'min_child_samples': 14, 'num_leaves': 2, 'learning_rate': 0.6854075973890158, 'max_bin': 7, 'reg_lambda': 8.976572264432697, 'subsample': 0.6474520742687456}. Best is trial 0 with value: 0.851985005746516.\u001b[0m\n",
      "\u001b[32m[I 2023-03-22 17:39:01,668]\u001b[0m Trial 1 finished with value: 0.9051666908954035 and parameters: {'n_estimators': 271, 'max_depth': 15, 'min_child_samples': 44, 'num_leaves': 13, 'learning_rate': 0.8335795857223447, 'max_bin': 10, 'reg_lambda': 3.680444370049888, 'subsample': 0.49483763493691135}. Best is trial 1 with value: 0.9051666908954035.\u001b[0m\n",
      "\u001b[32m[I 2023-03-22 17:39:17,392]\u001b[0m Trial 2 finished with value: 0.9024893556771251 and parameters: {'n_estimators': 108, 'max_depth': 13, 'min_child_samples': 50, 'num_leaves': 3, 'learning_rate': 0.7442062148125533, 'max_bin': 6, 'reg_lambda': 2.9867535096495224, 'subsample': 0.7524734751651231}. Best is trial 1 with value: 0.9051666908954035.\u001b[0m\n",
      "\u001b[32m[I 2023-03-22 17:39:23,830]\u001b[0m Trial 3 finished with value: 0.8814303253989707 and parameters: {'n_estimators': 15, 'max_depth': 11, 'min_child_samples': 45, 'num_leaves': 7, 'learning_rate': 0.21219185734497234, 'max_bin': 7, 'reg_lambda': 5.646724179652427, 'subsample': 0.34942930250246235}. Best is trial 1 with value: 0.9051666908954035.\u001b[0m\n",
      "\u001b[32m[I 2023-03-22 17:39:47,130]\u001b[0m Trial 4 finished with value: 0.9051082858509185 and parameters: {'n_estimators': 293, 'max_depth': 1, 'min_child_samples': 42, 'num_leaves': 7, 'learning_rate': 0.7479639553821431, 'max_bin': 10, 'reg_lambda': 3.726624238922925, 'subsample': 0.9648834735984363}. Best is trial 1 with value: 0.9051666908954035.\u001b[0m\n",
      "\u001b[32m[I 2023-03-22 17:39:53,546]\u001b[0m Trial 5 finished with value: 0.8698050693299253 and parameters: {'n_estimators': 33, 'max_depth': 1, 'min_child_samples': 22, 'num_leaves': 7, 'learning_rate': 0.49025518061342754, 'max_bin': 9, 'reg_lambda': 6.73414629518269, 'subsample': 0.5721006444408381}. Best is trial 1 with value: 0.9051666908954035.\u001b[0m\n",
      "\u001b[32m[I 2023-03-22 17:40:03,109]\u001b[0m Trial 6 finished with value: 0.8754708598927845 and parameters: {'n_estimators': 33, 'max_depth': 18, 'min_child_samples': 11, 'num_leaves': 12, 'learning_rate': 0.03665636629653462, 'max_bin': 6, 'reg_lambda': 2.052238453808367, 'subsample': 0.2588944363701359}. Best is trial 1 with value: 0.9051666908954035.\u001b[0m\n",
      "\u001b[32m[I 2023-03-22 17:40:20,186]\u001b[0m Trial 7 finished with value: 0.8897737888628516 and parameters: {'n_estimators': 281, 'max_depth': 1, 'min_child_samples': 26, 'num_leaves': 14, 'learning_rate': 0.2042090353625951, 'max_bin': 5, 'reg_lambda': 6.9716711995044935, 'subsample': 0.19102335405074344}. Best is trial 1 with value: 0.9051666908954035.\u001b[0m\n",
      "\u001b[32m[I 2023-03-22 17:40:37,441]\u001b[0m Trial 8 finished with value: 0.8862832713882481 and parameters: {'n_estimators': 169, 'max_depth': 13, 'min_child_samples': 50, 'num_leaves': 3, 'learning_rate': 0.06428732937701981, 'max_bin': 10, 'reg_lambda': 4.5210801975399235, 'subsample': 0.8539111934147401}. Best is trial 1 with value: 0.9051666908954035.\u001b[0m\n",
      "\u001b[32m[I 2023-03-22 17:40:52,013]\u001b[0m Trial 9 finished with value: 0.90805699136382 and parameters: {'n_estimators': 126, 'max_depth': 8, 'min_child_samples': 46, 'num_leaves': 11, 'learning_rate': 0.7767990449817469, 'max_bin': 5, 'reg_lambda': 9.661620512072584, 'subsample': 0.3222640434059521}. Best is trial 9 with value: 0.90805699136382.\u001b[0m\n",
      "\u001b[32m[I 2023-03-22 17:41:12,744]\u001b[0m Trial 10 finished with value: 0.9024412182985551 and parameters: {'n_estimators': 172, 'max_depth': 6, 'min_child_samples': 34, 'num_leaves': 10, 'learning_rate': 0.9915442173887984, 'max_bin': 5, 'reg_lambda': 9.749081735482305, 'subsample': 0.02489568137407605}. Best is trial 9 with value: 0.90805699136382.\u001b[0m\n",
      "\u001b[32m[I 2023-03-22 17:41:55,884]\u001b[0m Trial 11 finished with value: 0.8945481550224933 and parameters: {'n_estimators': 209, 'max_depth': 18, 'min_child_samples': 37, 'num_leaves': 15, 'learning_rate': 0.9742649989583783, 'max_bin': 8, 'reg_lambda': 0.3070761449360333, 'subsample': 0.4047989155915697}. Best is trial 9 with value: 0.90805699136382.\u001b[0m\n",
      "\u001b[32m[I 2023-03-22 17:42:15,655]\u001b[0m Trial 12 finished with value: 0.9151588076917601 and parameters: {'n_estimators': 114, 'max_depth': 6, 'min_child_samples': 41, 'num_leaves': 11, 'learning_rate': 0.5441911213843693, 'max_bin': 8, 'reg_lambda': 7.60743663410766, 'subsample': 0.5116503461461221}. Best is trial 12 with value: 0.9151588076917601.\u001b[0m\n",
      "\u001b[32m[I 2023-03-22 17:42:31,222]\u001b[0m Trial 13 finished with value: 0.9137477264805798 and parameters: {'n_estimators': 99, 'max_depth': 6, 'min_child_samples': 37, 'num_leaves': 10, 'learning_rate': 0.4809925615158207, 'max_bin': 8, 'reg_lambda': 8.20004494206585, 'subsample': 0.09555398327811337}. Best is trial 12 with value: 0.9151588076917601.\u001b[0m\n",
      "\u001b[32m[I 2023-03-22 17:42:44,113]\u001b[0m Trial 14 finished with value: 0.9133517371835469 and parameters: {'n_estimators': 81, 'max_depth': 5, 'min_child_samples': 36, 'num_leaves': 9, 'learning_rate': 0.45701761077680403, 'max_bin': 8, 'reg_lambda': 7.760247973486365, 'subsample': 0.02429992498025979}. Best is trial 12 with value: 0.9151588076917601.\u001b[0m\n",
      "\u001b[32m[I 2023-03-22 17:43:08,600]\u001b[0m Trial 15 finished with value: 0.9143903437762284 and parameters: {'n_estimators': 82, 'max_depth': 5, 'min_child_samples': 30, 'num_leaves': 9, 'learning_rate': 0.3965995622178612, 'max_bin': 9, 'reg_lambda': 8.202406046273854, 'subsample': 0.17157649022861055}. Best is trial 12 with value: 0.9151588076917601.\u001b[0m\n",
      "\u001b[32m[I 2023-03-22 17:43:20,326]\u001b[0m Trial 16 finished with value: 0.9029580558073638 and parameters: {'n_estimators': 67, 'max_depth': 4, 'min_child_samples': 27, 'num_leaves': 5, 'learning_rate': 0.3183034439521876, 'max_bin': 9, 'reg_lambda': 5.913278457245895, 'subsample': 0.47673032142776417}. Best is trial 12 with value: 0.9151588076917601.\u001b[0m\n",
      "\u001b[32m[I 2023-03-22 17:43:51,249]\u001b[0m Trial 17 finished with value: 0.9124448374133569 and parameters: {'n_estimators': 132, 'max_depth': 8, 'min_child_samples': 20, 'num_leaves': 12, 'learning_rate': 0.6128076343381585, 'max_bin': 9, 'reg_lambda': 8.035693229825636, 'subsample': 0.668864396679342}. Best is trial 12 with value: 0.9151588076917601.\u001b[0m\n",
      "\u001b[32m[I 2023-03-22 17:44:31,476]\u001b[0m Trial 18 finished with value: 0.9205488996410827 and parameters: {'n_estimators': 223, 'max_depth': 3, 'min_child_samples': 32, 'num_leaves': 8, 'learning_rate': 0.3639262728213733, 'max_bin': 9, 'reg_lambda': 6.842497791502761, 'subsample': 0.18858002802827115}. Best is trial 18 with value: 0.9205488996410827.\u001b[0m\n",
      "\u001b[32m[I 2023-03-22 17:45:00,610]\u001b[0m Trial 19 finished with value: 0.9147154196971583 and parameters: {'n_estimators': 225, 'max_depth': 3, 'min_child_samples': 40, 'num_leaves': 5, 'learning_rate': 0.5949052241369692, 'max_bin': 7, 'reg_lambda': 6.659160812110444, 'subsample': 0.4233399377568385}. Best is trial 18 with value: 0.9205488996410827.\u001b[0m\n"
     ]
    }
   ],
   "source": [
    "def objective(trial):\n",
    "\n",
    "    n_estimators_hp = trial.suggest_int('n_estimators', 10, 300)\n",
    "    max_depth_hp =  trial.suggest_int('max_depth', 1, 20)\n",
    "    min_child_samples_hp = trial.suggest_int('min_child_samples', 10, 50)\n",
    "    num_leaves_hp = trial.suggest_int('num_leaves', 2, 15)\n",
    "    learning_rate_hp = trial.suggest_float('learning_rate',1e-8,1)\n",
    "\n",
    "    max_bin_hp = trial.suggest_int('max_bin',5,10)\n",
    "    lambda_l2_hp = trial.suggest_float('reg_lambda',0,10)\n",
    "    bagging_fraction_hp = trial.suggest_float('subsample',1e-8,1)\n",
    "    \n",
    "    model = LGBMClassifier(n_estimators = n_estimators_hp, \n",
    "                          max_depth = max_depth_hp, \n",
    "                          min_child_samples = min_child_samples_hp,\n",
    "                          num_leaves = num_leaves_hp,\n",
    "                          learning_rate = learning_rate_hp,\n",
    "                          max_bin = max_bin_hp,\n",
    "                          reg_lambda = lambda_l2_hp,\n",
    "                          subsample = bagging_fraction_hp,\n",
    "                          random_state = 0,is_unbalance=True)\n",
    "    \n",
    "    model.fit(train_x[:len(train[0])//2], train_y[:len(train[0])//2])\n",
    "    pred_probs = model.predict_proba(val_x)\n",
    "\n",
    "    roc_val = roc_auc_score(val_y, pred_probs[:,1])\n",
    "    \n",
    "    return roc_val\n",
    "\n",
    "optuna.logging.set_verbosity(optuna.logging.INFO) \n",
    "\n",
    "study = optuna.create_study(direction='maximize',sampler=optuna.samplers.TPESampler(seed=2022))\n",
    "study.optimize(objective, n_trials=20)"
   ]
  },
  {
   "cell_type": "code",
   "execution_count": null,
   "id": "23f0c41a",
   "metadata": {},
   "outputs": [],
   "source": [
    "hp = {'n_estimators': 223, 'max_depth': 3, 'min_child_samples': 32, 'num_leaves': 8, 'learning_rate': 0.3639262728213733, 'max_bin': 9, 'reg_lambda': 6.842497791502761, 'subsample': 0.18858002802827115}\n",
    "\n",
    "model = LGBMClassifier(hp, random_state = 0,is_unbalance=True )\n",
    "model.fit(train_x[:len(train[0])//2], train_y[:len(train[0])//2])"
   ]
  },
  {
   "cell_type": "code",
   "execution_count": null,
   "id": "be919eea",
   "metadata": {},
   "outputs": [],
   "source": [
    "# with open('./data/test_set_5_slides_.pkl','rb') as f:\n",
    "#     test =  pkl.load(f)\n",
    "\n",
    "test_x,test_y = test\n",
    "\n",
    "roc_auc_score(test_y, model.predict_proba(test_y)[:,1])"
   ]
  },
  {
   "cell_type": "code",
   "execution_count": null,
   "id": "6781eb45",
   "metadata": {},
   "outputs": [],
   "source": [
    "\n"
   ]
  }
 ],
 "metadata": {
  "kernelspec": {
   "display_name": "Python 3 (ipykernel)",
   "language": "python",
   "name": "python3"
  },
  "language_info": {
   "codemirror_mode": {
    "name": "ipython",
    "version": 3
   },
   "file_extension": ".py",
   "mimetype": "text/x-python",
   "name": "python",
   "nbconvert_exporter": "python",
   "pygments_lexer": "ipython3",
   "version": "3.10.4"
  }
 },
 "nbformat": 4,
 "nbformat_minor": 5
}
